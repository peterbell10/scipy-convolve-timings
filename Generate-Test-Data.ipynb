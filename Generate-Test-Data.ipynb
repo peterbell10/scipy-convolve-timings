{
 "cells": [
  {
   "cell_type": "code",
   "execution_count": 1,
   "metadata": {},
   "outputs": [],
   "source": [
    "import numpy as np\n",
    "from scipy.signal import convolve\n",
    "from time import time"
   ]
  },
  {
   "cell_type": "code",
   "execution_count": 2,
   "metadata": {},
   "outputs": [],
   "source": [
    "def get_random_size(random_state=None, N=1000):\n",
    "    rng = np.random.RandomState(random_state)\n",
    "    e = .2 + rng.rand(4) * 2\n",
    "    s = (10**e).astype(np.int64)\n",
    "    return (s[0], s[1]), (s[2], s[3])\n",
    "\n",
    "def _fftconv_faster(S1, S2, mode=\"full\", random_state=None):\n",
    "    rng = np.random.RandomState(random_state)\n",
    "    x = rng.randn(*S1)\n",
    "    h = rng.randn(*S2)\n",
    "    \n",
    "    start = time()\n",
    "    _ = convolve(x, h, mode=mode, method=\"fft\")\n",
    "    fft_time = time() - start\n",
    "    \n",
    "    start = time()\n",
    "    _ = convolve(x, h, mode=mode, method=\"direct\")\n",
    "    direct_time = time() - start\n",
    "    return (\n",
    "        \"fft\" if fft_time < direct_time else \"direct\",\n",
    "        {\"fft_time\": fft_time, \"direct_time\": direct_time},\n",
    "        (x, h),\n",
    "    )"
   ]
  },
  {
   "cell_type": "code",
   "execution_count": 3,
   "metadata": {},
   "outputs": [],
   "source": [
    "import math\n",
    "def _prod(iterable):\n",
    "    \"\"\"\n",
    "    Product of a list of numbers.\n",
    "    Faster than np.prod for short lists like array shapes.\n",
    "    \"\"\"\n",
    "    product = 1\n",
    "    for x in iterable:\n",
    "        product *= x\n",
    "    return product\n",
    "def _predict_fftconv_faster(x, h, constant, mode=\"full\"):\n",
    "    full_out_shape = [n + k - 1 for n, k in zip(x.shape, h.shape)]\n",
    "    if mode == 'full':\n",
    "        out_shape = full_out_shape\n",
    "    elif mode == 'same':\n",
    "        out_shape = x.shape\n",
    "    elif mode == 'valid':\n",
    "        out_shape = [n - k + 1 for n, k in zip(x.shape, h.shape)]\n",
    "    else:\n",
    "        raise ValueError('mode is invalid')\n",
    "\n",
    "    # see whether the Fourier transform convolution method or the direct\n",
    "    # convolution method is faster (discussed in scikit-image PR #1792)\n",
    "    direct_time = float(min(x.size, h.size) * _prod(out_shape))\n",
    "    fft_time = _prod(full_out_shape) * sum(math.log(n) for n in full_out_shape)\n",
    "    fastest = \"fft\" if direct_time - constant[0] * fft_time > constant[1] else \"direct\"\n",
    "    times = {'pred_direct_time': direct_time, 'pred_fft_time': fft_time}\n",
    "    return fastest, times\n",
    "    "
   ]
  },
  {
   "cell_type": "code",
   "execution_count": 25,
   "metadata": {},
   "outputs": [
    {
     "data": {
      "application/vnd.jupyter.widget-view+json": {
       "model_id": "4a93cb45497a460dbeb9818d50b829ef",
       "version_major": 2,
       "version_minor": 0
      },
      "text/plain": [
       "HBox(children=(IntProgress(value=0, max=1000), HTML(value='')))"
      ]
     },
     "metadata": {},
     "output_type": "display_data"
    },
    {
     "name": "stdout",
     "output_type": "stream",
     "text": [
      "\n"
     ]
    },
    {
     "data": {
      "application/vnd.jupyter.widget-view+json": {
       "model_id": "12afb17763df4ee09c699b3dc1d5ec06",
       "version_major": 2,
       "version_minor": 0
      },
      "text/plain": [
       "HBox(children=(IntProgress(value=0, max=1000), HTML(value='')))"
      ]
     },
     "metadata": {},
     "output_type": "display_data"
    },
    {
     "name": "stdout",
     "output_type": "stream",
     "text": [
      "\n"
     ]
    },
    {
     "data": {
      "application/vnd.jupyter.widget-view+json": {
       "model_id": "011f696dd1ea45c28bc8927a80e6001c",
       "version_major": 2,
       "version_minor": 0
      },
      "text/plain": [
       "HBox(children=(IntProgress(value=0, max=1000), HTML(value='')))"
      ]
     },
     "metadata": {},
     "output_type": "display_data"
    },
    {
     "name": "stdout",
     "output_type": "stream",
     "text": [
      "\n"
     ]
    }
   ],
   "source": [
    "import pandas as pd\n",
    "from tqdm.notebook import tqdm\n",
    "constants = {\"full\": [0.2949277303306508, 11782.76945483908],\n",
    "             \"same\": [0.26570413707755003, 10800.50559395122],\n",
    "             \"valid\": [0.34633506077546283, 4483.810300140974]}\n",
    "dfs = {}\n",
    "for mode in [\"full\", \"same\", \"valid\"]:\n",
    "    data = []\n",
    "    constant = constants[mode]\n",
    "    for seed in tqdm(range(1000)):\n",
    "        S1, S2 = get_random_size(random_state=seed)\n",
    "        if (mode == 'valid'\n",
    "            and (S1[0] > S2[0] and S1[1] < S2[1]\n",
    "                or S1[0] < S2[0] and S1[1] > S2[1])):\n",
    "            S1, S2 = (S1[0], S2[1]), (S2[0], S1[1])\n",
    "        fastest, times, (x, h) = _fftconv_faster(S1, S2, random_state=seed, mode=mode)\n",
    "        pred_fastest, pred_times = _predict_fftconv_faster(x, h, constant)\n",
    "\n",
    "        datum = {\n",
    "            \"shape1\": S1,\n",
    "            \"shape2\": S2,\n",
    "            \"actual_fastest\": fastest,\n",
    "            \"predicted_fastest\": pred_fastest,\n",
    "            \"mode\": mode,\n",
    "            \"constant\": constant,\n",
    "            **times,\n",
    "            **pred_times\n",
    "        }\n",
    "        data.append(datum)\n",
    "    today = \"2019-07-27\"\n",
    "    df = pd.DataFrame(data)\n",
    "    df.to_csv(f\"out/{mode}-{today}-test.csv\", index=False)\n",
    "    dfs[mode] = df"
   ]
  },
  {
   "cell_type": "code",
   "execution_count": 23,
   "metadata": {},
   "outputs": [
    {
     "data": {
      "text/html": [
       "<div>\n",
       "<style scoped>\n",
       "    .dataframe tbody tr th:only-of-type {\n",
       "        vertical-align: middle;\n",
       "    }\n",
       "\n",
       "    .dataframe tbody tr th {\n",
       "        vertical-align: top;\n",
       "    }\n",
       "\n",
       "    .dataframe thead th {\n",
       "        text-align: right;\n",
       "    }\n",
       "</style>\n",
       "<table border=\"1\" class=\"dataframe\">\n",
       "  <thead>\n",
       "    <tr style=\"text-align: right;\">\n",
       "      <th></th>\n",
       "      <th>shape1</th>\n",
       "      <th>shape2</th>\n",
       "      <th>actual_fastest</th>\n",
       "      <th>predicted_fastest</th>\n",
       "      <th>mode</th>\n",
       "      <th>constant</th>\n",
       "      <th>fft_time</th>\n",
       "      <th>direct_time</th>\n",
       "      <th>pred_direct_time</th>\n",
       "      <th>pred_fft_time</th>\n",
       "    </tr>\n",
       "  </thead>\n",
       "  <tbody>\n",
       "    <tr>\n",
       "      <td>1</td>\n",
       "      <td>(10, 43)</td>\n",
       "      <td>(1, 6)</td>\n",
       "      <td>direct</td>\n",
       "      <td>fft</td>\n",
       "      <td>valid</td>\n",
       "      <td>[0.47790439279188757, 986.6281426795514]</td>\n",
       "      <td>0.000215</td>\n",
       "      <td>0.000041</td>\n",
       "      <td>2880.0</td>\n",
       "      <td>2963.417330</td>\n",
       "    </tr>\n",
       "    <tr>\n",
       "      <td>2</td>\n",
       "      <td>(11, 1)</td>\n",
       "      <td>(19, 11)</td>\n",
       "      <td>direct</td>\n",
       "      <td>fft</td>\n",
       "      <td>valid</td>\n",
       "      <td>[0.47790439279188757, 986.6281426795514]</td>\n",
       "      <td>0.000284</td>\n",
       "      <td>0.000027</td>\n",
       "      <td>3509.0</td>\n",
       "      <td>1839.095962</td>\n",
       "    </tr>\n",
       "    <tr>\n",
       "      <td>5</td>\n",
       "      <td>(4, 87)</td>\n",
       "      <td>(4, 108)</td>\n",
       "      <td>direct</td>\n",
       "      <td>fft</td>\n",
       "      <td>valid</td>\n",
       "      <td>[0.47790439279188757, 986.6281426795514]</td>\n",
       "      <td>0.000300</td>\n",
       "      <td>0.000085</td>\n",
       "      <td>472584.0</td>\n",
       "      <td>9796.297362</td>\n",
       "    </tr>\n",
       "    <tr>\n",
       "      <td>6</td>\n",
       "      <td>(96, 7)</td>\n",
       "      <td>(69, 1)</td>\n",
       "      <td>direct</td>\n",
       "      <td>fft</td>\n",
       "      <td>valid</td>\n",
       "      <td>[0.47790439279188757, 986.6281426795514]</td>\n",
       "      <td>0.000283</td>\n",
       "      <td>0.000162</td>\n",
       "      <td>79212.0</td>\n",
       "      <td>8088.551510</td>\n",
       "    </tr>\n",
       "    <tr>\n",
       "      <td>7</td>\n",
       "      <td>(2, 44)</td>\n",
       "      <td>(11, 57)</td>\n",
       "      <td>direct</td>\n",
       "      <td>fft</td>\n",
       "      <td>valid</td>\n",
       "      <td>[0.47790439279188757, 986.6281426795514]</td>\n",
       "      <td>0.000315</td>\n",
       "      <td>0.000226</td>\n",
       "      <td>105600.0</td>\n",
       "      <td>8508.092203</td>\n",
       "    </tr>\n",
       "  </tbody>\n",
       "</table>\n",
       "</div>"
      ],
      "text/plain": [
       "     shape1    shape2 actual_fastest predicted_fastest   mode  \\\n",
       "1  (10, 43)    (1, 6)         direct               fft  valid   \n",
       "2   (11, 1)  (19, 11)         direct               fft  valid   \n",
       "5   (4, 87)  (4, 108)         direct               fft  valid   \n",
       "6   (96, 7)   (69, 1)         direct               fft  valid   \n",
       "7   (2, 44)  (11, 57)         direct               fft  valid   \n",
       "\n",
       "                                   constant  fft_time  direct_time  \\\n",
       "1  [0.47790439279188757, 986.6281426795514]  0.000215     0.000041   \n",
       "2  [0.47790439279188757, 986.6281426795514]  0.000284     0.000027   \n",
       "5  [0.47790439279188757, 986.6281426795514]  0.000300     0.000085   \n",
       "6  [0.47790439279188757, 986.6281426795514]  0.000283     0.000162   \n",
       "7  [0.47790439279188757, 986.6281426795514]  0.000315     0.000226   \n",
       "\n",
       "   pred_direct_time  pred_fft_time  \n",
       "1            2880.0    2963.417330  \n",
       "2            3509.0    1839.095962  \n",
       "5          472584.0    9796.297362  \n",
       "6           79212.0    8088.551510  \n",
       "7          105600.0    8508.092203  "
      ]
     },
     "execution_count": 23,
     "metadata": {},
     "output_type": "execute_result"
    }
   ],
   "source": [
    "df = dfs['valid']\n",
    "wrong = df[df['actual_fastest'] != df['predicted_fastest']]\n",
    "wrong.head()"
   ]
  },
  {
   "cell_type": "code",
   "execution_count": 24,
   "metadata": {},
   "outputs": [
    {
     "name": "stdout",
     "output_type": "stream",
     "text": [
      "full 0.856\n",
      "same 0.72\n",
      "valid 0.599\n"
     ]
    }
   ],
   "source": [
    "for mode, df in dfs.items():\n",
    "    print(mode, (df.actual_fastest == df.predicted_fastest).sum() / len(df))"
   ]
  },
  {
   "cell_type": "code",
   "execution_count": null,
   "metadata": {},
   "outputs": [],
   "source": []
  },
  {
   "cell_type": "code",
   "execution_count": null,
   "metadata": {},
   "outputs": [],
   "source": [
    "\n"
   ]
  },
  {
   "cell_type": "code",
   "execution_count": null,
   "metadata": {},
   "outputs": [],
   "source": []
  }
 ],
 "metadata": {
  "kernelspec": {
   "display_name": "Python 3",
   "language": "python",
   "name": "python3"
  },
  "language_info": {
   "codemirror_mode": {
    "name": "ipython",
    "version": 3
   },
   "file_extension": ".py",
   "mimetype": "text/x-python",
   "name": "python",
   "nbconvert_exporter": "python",
   "pygments_lexer": "ipython3",
   "version": "3.7.4"
  }
 },
 "nbformat": 4,
 "nbformat_minor": 4
}
