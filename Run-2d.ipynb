{
 "cells": [
  {
   "cell_type": "code",
   "execution_count": 1,
   "metadata": {},
   "outputs": [],
   "source": [
    "import numpy as np\n",
    "from numpy import asarray, array, ndarray\n",
    "from scipy.signal import convolve\n",
    "import math"
   ]
  },
  {
   "cell_type": "code",
   "execution_count": 2,
   "metadata": {},
   "outputs": [],
   "source": [
    "randn = np.random.randn\n",
    "import timeit\n",
    "def time(x, h, mode='valid', method='auto', repeat=20, number=2):\n",
    "    times = timeit.repeat(\n",
    "        \"convolve(x, h, mode='{}', method='{}')\".format(mode, method), \n",
    "        \"import numpy as np\\n\" +\n",
    "        \"from scipy.signal import convolve\",\n",
    "        repeat=repeat,\n",
    "        number=number,\n",
    "        globals={\"x\": x, \"h\": h}\n",
    "    )\n",
    "    return min(times) / number"
   ]
  },
  {
   "cell_type": "code",
   "execution_count": 3,
   "metadata": {},
   "outputs": [],
   "source": [
    "import pandas as pd\n",
    "\n",
    "def _get_data(n, a, ndim, rng):\n",
    "    if ndim == 2:\n",
    "        x = rng.randn(n, n)\n",
    "        h = rng.randn(a, a)\n",
    "        if mode == \"valid\":\n",
    "            x = rng.randn(n, n // 2)\n",
    "            h = rng.randn(a, a // 2)\n",
    "    elif ndim == 1:\n",
    "        x = rng.randn(n)\n",
    "        h = rng.randn(a)\n",
    "    else:\n",
    "        raise ValueError(\"ndim\")\n",
    "    return x, h\n",
    "\n",
    "def time_conv(n, a, mode=\"full\", ndim=2, random_state=None):\n",
    "    rng = np.random.RandomState(random_state)\n",
    "    x, h = _get_data(n, a, ndim, rng)\n",
    "        \n",
    "    t_fft = time(x, h, mode=mode, method=\"fft\")\n",
    "    t_direct = time(x, h, mode=mode, method=\"direct\")\n",
    "    return {\n",
    "        \"fft_time\": t_fft,\n",
    "        \"direct_time\": t_direct,\n",
    "        \"mode\": mode,\n",
    "        \"x.shape[0]\": x.shape[0],\n",
    "        \"x.shape[1]\": x.shape[1],\n",
    "        \"h.shape[0]\": h.shape[0],\n",
    "        \"h.shape[1]\": h.shape[1],\n",
    "        \"random_state\": random_state\n",
    "    }"
   ]
  },
  {
   "cell_type": "code",
   "execution_count": 4,
   "metadata": {},
   "outputs": [
    {
     "name": "stdout",
     "output_type": "stream",
     "text": [
      "[  3   3   3   3   4   4   5   5   6   6   7   8   9  10  11  12  13  14\n",
      "  16  17  19  21  23  26  28  31  34  37  41  45  50  55  60  66  73  80\n",
      "  88  97 106 117 128 141 155 170 187 205 226 248 273 300]\n"
     ]
    },
    {
     "data": {
      "application/vnd.jupyter.widget-view+json": {
       "model_id": "a8f354b332114e869f669c9c9c959902",
       "version_major": 2,
       "version_minor": 0
      },
      "text/plain": [
       "HBox(children=(IntProgress(value=0, max=50), HTML(value='')))"
      ]
     },
     "metadata": {},
     "output_type": "display_data"
    },
    {
     "name": "stdout",
     "output_type": "stream",
     "text": [
      "\n"
     ]
    },
    {
     "data": {
      "application/vnd.jupyter.widget-view+json": {
       "model_id": "9f2df34ae06d41bcac68051472fe36d4",
       "version_major": 2,
       "version_minor": 0
      },
      "text/plain": [
       "HBox(children=(IntProgress(value=0, max=50), HTML(value='')))"
      ]
     },
     "metadata": {},
     "output_type": "display_data"
    },
    {
     "name": "stdout",
     "output_type": "stream",
     "text": [
      "\n"
     ]
    },
    {
     "data": {
      "application/vnd.jupyter.widget-view+json": {
       "model_id": "4f656715f25b42258a24dcdbc49df713",
       "version_major": 2,
       "version_minor": 0
      },
      "text/plain": [
       "HBox(children=(IntProgress(value=0, max=50), HTML(value='')))"
      ]
     },
     "metadata": {},
     "output_type": "display_data"
    },
    {
     "name": "stdout",
     "output_type": "stream",
     "text": [
      "\n"
     ]
    }
   ],
   "source": [
    "sizes = np.logspace(np.log10(3), np.log10(300), num=50).astype(\"int\")\n",
    "print(sizes)\n",
    "today = \"2019-10-04\"\n",
    "from tqdm.notebook import tqdm\n",
    "\n",
    "data = []\n",
    "for mode in [\"full\", \"valid\", \"same\"]:\n",
    "    for n in tqdm(sizes):\n",
    "        for a in sizes:\n",
    "            if a > n:\n",
    "                break\n",
    "            datum = time_conv(n, a, random_state=len(data), ndim=2, mode=mode)\n",
    "            data.append(datum)\n",
    "            if len(data) % 100 == 0:\n",
    "                pd.DataFrame(data).to_parquet(f\"out/{today}-conv2d.parquet\", index=False)\n",
    "pd.DataFrame(data).to_parquet(f\"out/{today}-conv2d.parquet\", index=False)"
   ]
  },
  {
   "cell_type": "code",
   "execution_count": null,
   "metadata": {},
   "outputs": [],
   "source": []
  }
 ],
 "metadata": {
  "kernelspec": {
   "display_name": "Python 3",
   "language": "python",
   "name": "python3"
  },
  "language_info": {
   "codemirror_mode": {
    "name": "ipython",
    "version": 3
   },
   "file_extension": ".py",
   "mimetype": "text/x-python",
   "name": "python",
   "nbconvert_exporter": "python",
   "pygments_lexer": "ipython3",
   "version": "3.7.4"
  }
 },
 "nbformat": 4,
 "nbformat_minor": 4
}
